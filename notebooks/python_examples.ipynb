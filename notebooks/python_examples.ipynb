{
 "cells": [
  {
   "cell_type": "markdown",
   "metadata": {},
   "source": [
    "# Примеры на языке программирования Python"
   ]
  },
  {
   "cell_type": "markdown",
   "metadata": {},
   "source": [
    "## Функции. Использование аргументов."
   ]
  },
  {
   "cell_type": "code",
   "execution_count": 37,
   "metadata": {},
   "outputs": [],
   "source": [
    "def test_args_kwargs(*args, **kwargs):\n",
    "    print('Arguments:')\n",
    "    for arg in args:\n",
    "        print(arg)\n",
    "    print('\\nKeywords:')\n",
    "    for key in kwargs:\n",
    "        print('{} = {}'.format(key, kwargs[key]))        "
   ]
  },
  {
   "cell_type": "code",
   "execution_count": 61,
   "metadata": {},
   "outputs": [
    {
     "name": "stdout",
     "output_type": "stream",
     "text": [
      "Arguments:\n",
      "1\n",
      "2\n",
      "3\n",
      "True\n",
      "qwerty\n",
      "\n",
      "Keywords:\n",
      "param1 = 123\n",
      "bool_param = True\n",
      "str_param = string\n"
     ]
    }
   ],
   "source": [
    "test_args_kwargs(1,2,3,True, 'qwerty', param1=123, bool_param=True, str_param='string')"
   ]
  },
  {
   "cell_type": "code",
   "execution_count": 62,
   "metadata": {},
   "outputs": [],
   "source": [
    "def test_args_kwargs_1(*args, **kwargs):\n",
    "    print('Arguments:')\n",
    "    for arg in args:\n",
    "        print(arg)\n",
    "    print('\\nKeywords:')\n",
    "    for k, v in kwargs.items():\n",
    "        print('{} = {}'.format(k, v))"
   ]
  },
  {
   "cell_type": "code",
   "execution_count": 63,
   "metadata": {},
   "outputs": [
    {
     "name": "stdout",
     "output_type": "stream",
     "text": [
      "Arguments:\n",
      "1\n",
      "2\n",
      "3\n",
      "True\n",
      "qwerty\n",
      "\n",
      "Keywords:\n",
      "param1 = 123\n",
      "bool_param = True\n",
      "str_param = string\n"
     ]
    }
   ],
   "source": [
    "test_args_kwargs_1(1,2,3,True, 'qwerty', param1=123, bool_param=True, str_param='string')"
   ]
  },
  {
   "cell_type": "code",
   "execution_count": 64,
   "metadata": {},
   "outputs": [
    {
     "ename": "SyntaxError",
     "evalue": "positional argument follows keyword argument (<ipython-input-64-89edc2520aab>, line 1)",
     "output_type": "error",
     "traceback": [
      "\u001b[1;36m  File \u001b[1;32m\"<ipython-input-64-89edc2520aab>\"\u001b[1;36m, line \u001b[1;32m1\u001b[0m\n\u001b[1;33m    test_args_kwargs(1,2,3,True, str_param='string', 'qwerty', param1=123, bool_param=True)\u001b[0m\n\u001b[1;37m                                                    ^\u001b[0m\n\u001b[1;31mSyntaxError\u001b[0m\u001b[1;31m:\u001b[0m positional argument follows keyword argument\n"
     ]
    }
   ],
   "source": [
    "test_args_kwargs(1,2,3,True, str_param='string', 'qwerty', param1=123, bool_param=True)"
   ]
  },
  {
   "cell_type": "code",
   "execution_count": 39,
   "metadata": {},
   "outputs": [],
   "source": [
    "def test_args_kwargs_2(*arguments, **keywords):\n",
    "    print(type(arguments), arguments)\n",
    "    print(type(keywords), keywords)"
   ]
  },
  {
   "cell_type": "code",
   "execution_count": 40,
   "metadata": {},
   "outputs": [
    {
     "name": "stdout",
     "output_type": "stream",
     "text": [
      "<class 'tuple'> (1, 2, 3, True, 'qwerty')\n",
      "<class 'dict'> {'param1': 123, 'bool_param': True, 'str_param': 'string'}\n"
     ]
    }
   ],
   "source": [
    "test_args_kwargs_2(1, 2, 3, True, 'qwerty', param1=123, bool_param=True, str_param='string')"
   ]
  },
  {
   "cell_type": "code",
   "execution_count": 41,
   "metadata": {},
   "outputs": [],
   "source": [
    "def test_args_kwargs_3(p1, p2, *arguments, **keywords):\n",
    "    print(p1, p2)\n",
    "    print(type(arguments), arguments)\n",
    "    print(type(keywords), keywords)"
   ]
  },
  {
   "cell_type": "code",
   "execution_count": 42,
   "metadata": {},
   "outputs": [
    {
     "name": "stdout",
     "output_type": "stream",
     "text": [
      "1 2\n",
      "<class 'tuple'> (3, True, 'qwerty')\n",
      "<class 'dict'> {'param1': 123, 'bool_param': True, 'str_param': 'string'}\n"
     ]
    }
   ],
   "source": [
    "test_args_kwargs_3(1, 2, 3, True, 'qwerty', param1=123, bool_param=True, str_param='string')"
   ]
  },
  {
   "cell_type": "code",
   "execution_count": 48,
   "metadata": {},
   "outputs": [],
   "source": [
    "def test_args_kwargs_4(p1, p2, *arguments, param1=0, param2=333, **keywords):\n",
    "    print('p1 =', p1, 'p2 =', p2, 'param1 =', param1, 'param2 =', param2)\n",
    "    print(type(arguments), arguments)\n",
    "    print(type(keywords), keywords)"
   ]
  },
  {
   "cell_type": "code",
   "execution_count": 49,
   "metadata": {},
   "outputs": [
    {
     "name": "stdout",
     "output_type": "stream",
     "text": [
      "p1 = 1 p2 = 2 param1 = 123 param2 = 333\n",
      "<class 'tuple'> (3, True, 'qwerty')\n",
      "<class 'dict'> {'bool_param': True, 'str_param': 'string'}\n"
     ]
    }
   ],
   "source": [
    "test_args_kwargs_4(1, 2, 3, True, 'qwerty', param1=123, bool_param=True, str_param='string')"
   ]
  },
  {
   "cell_type": "code",
   "execution_count": 50,
   "metadata": {},
   "outputs": [
    {
     "name": "stdout",
     "output_type": "stream",
     "text": [
      "p1 = 2 p2 = 1 param1 = 124 param2 = 334\n",
      "<class 'tuple'> (3, True, 'qwerty')\n",
      "<class 'dict'> {'bool_param': True, 'str_param': 'string'}\n"
     ]
    }
   ],
   "source": [
    "# Изменим порядок указания параметров\n",
    "test_args_kwargs_4(2, 1, 3, True, 'qwerty', param2=334, param1=124, bool_param=True, str_param='string')"
   ]
  },
  {
   "cell_type": "code",
   "execution_count": 51,
   "metadata": {},
   "outputs": [
    {
     "name": "stdout",
     "output_type": "stream",
     "text": [
      "p1 = 2 p2 = 1 param1 = 124 param2 = 334\n",
      "<class 'tuple'> (3, True, 'qwerty')\n",
      "<class 'dict'> {'bool_param': True, 'str_param': 'string'}\n"
     ]
    }
   ],
   "source": [
    "test_args_kwargs_4(2, 1, 3, True, 'qwerty', bool_param=True, str_param='string', param2=334, param1=124)"
   ]
  },
  {
   "cell_type": "markdown",
   "metadata": {},
   "source": [
    "## List comprehensions"
   ]
  },
  {
   "cell_type": "code",
   "execution_count": 68,
   "metadata": {},
   "outputs": [
    {
     "data": {
      "text/plain": [
       "[1, 2, 3, 4, 5]"
      ]
     },
     "execution_count": 68,
     "metadata": {},
     "output_type": "execute_result"
    }
   ],
   "source": [
    "t0 = list(range(1,6))\n",
    "t0"
   ]
  },
  {
   "cell_type": "code",
   "execution_count": 69,
   "metadata": {},
   "outputs": [
    {
     "data": {
      "text/plain": [
       "[(1, 1), (2, 4), (3, 9), (4, 16), (5, 25)]"
      ]
     },
     "execution_count": 69,
     "metadata": {},
     "output_type": "execute_result"
    }
   ],
   "source": [
    "t1 = [(x, x**2) for x in t0]\n",
    "t1"
   ]
  },
  {
   "cell_type": "markdown",
   "metadata": {},
   "source": [
    "## Функции высших порядков"
   ]
  },
  {
   "cell_type": "code",
   "execution_count": 74,
   "metadata": {},
   "outputs": [
    {
     "data": {
      "text/plain": [
       "<map at 0x1ef6dd17e10>"
      ]
     },
     "execution_count": 74,
     "metadata": {},
     "output_type": "execute_result"
    }
   ],
   "source": [
    "# map object является итератором\n",
    "t22 = map(lambda x: x**2, t0)\n",
    "t22"
   ]
  },
  {
   "cell_type": "code",
   "execution_count": 75,
   "metadata": {},
   "outputs": [
    {
     "data": {
      "text/plain": [
       "[1, 4, 9, 16, 25]"
      ]
     },
     "execution_count": 75,
     "metadata": {},
     "output_type": "execute_result"
    }
   ],
   "source": [
    "t2 = list(map(lambda x: x**2, t0))\n",
    "t2"
   ]
  },
  {
   "cell_type": "code",
   "execution_count": 77,
   "metadata": {},
   "outputs": [
    {
     "data": {
      "text/plain": [
       "[(1, 1), (2, 4), (3, 9), (4, 16), (5, 25)]"
      ]
     },
     "execution_count": 77,
     "metadata": {},
     "output_type": "execute_result"
    }
   ],
   "source": [
    "list(zip(t0, t2))"
   ]
  },
  {
   "cell_type": "code",
   "execution_count": 78,
   "metadata": {},
   "outputs": [
    {
     "data": {
      "text/plain": [
       "[(1, 1), (2, 4), (3, 9), (4, 16), (5, 25)]"
      ]
     },
     "execution_count": 78,
     "metadata": {},
     "output_type": "execute_result"
    }
   ],
   "source": [
    "t3 = list(map(lambda x: (x, x**2), range(1,6)))\n",
    "t3"
   ]
  },
  {
   "cell_type": "code",
   "execution_count": 89,
   "metadata": {},
   "outputs": [
    {
     "data": {
      "text/plain": [
       "([0, 1, 2], [10, 11, 12, 13, 14], [100, 101, 102, 103, 104, 105, 106])"
      ]
     },
     "execution_count": 89,
     "metadata": {},
     "output_type": "execute_result"
    }
   ],
   "source": [
    "# Особенности работы zip\n",
    "z1 = list(range(3))\n",
    "z2 = list(map(lambda x: x+10, range(5)))\n",
    "z3 = list(map(lambda x: x+100, range(7)))\n",
    "z1, z2, z3"
   ]
  },
  {
   "cell_type": "code",
   "execution_count": 103,
   "metadata": {},
   "outputs": [
    {
     "data": {
      "text/plain": [
       "[(0, 10, 100), (1, 11, 101), (2, 12, 102)]"
      ]
     },
     "execution_count": 103,
     "metadata": {},
     "output_type": "execute_result"
    }
   ],
   "source": [
    "list(zip(z1, z2, z3))"
   ]
  },
  {
   "cell_type": "markdown",
   "metadata": {},
   "source": [
    "## foldl и foldr. [Статья с пояснениями](https://www.burgaud.com/foldl-foldr-python) "
   ]
  },
  {
   "cell_type": "code",
   "execution_count": 105,
   "metadata": {},
   "outputs": [],
   "source": [
    "import functools as ft"
   ]
  },
  {
   "cell_type": "code",
   "execution_count": 112,
   "metadata": {},
   "outputs": [
    {
     "data": {
      "text/plain": [
       "1.0"
      ]
     },
     "execution_count": 112,
     "metadata": {},
     "output_type": "execute_result"
    }
   ],
   "source": [
    "# аналог функции foldl\n",
    "ft.reduce(lambda acc, elem: acc/elem, [2,5,10], 100)"
   ]
  },
  {
   "cell_type": "code",
   "execution_count": 116,
   "metadata": {},
   "outputs": [
    {
     "data": {
      "text/plain": [
       "1.0"
      ]
     },
     "execution_count": 116,
     "metadata": {},
     "output_type": "execute_result"
    }
   ],
   "source": [
    "# функция foldl левоассоциативна\n",
    "(((100.0 / 2.0) / 5.0) / 10.0)"
   ]
  },
  {
   "cell_type": "code",
   "execution_count": 124,
   "metadata": {},
   "outputs": [],
   "source": [
    "# аналог функции foldr"
   ]
  },
  {
   "cell_type": "code",
   "execution_count": 123,
   "metadata": {},
   "outputs": [
    {
     "data": {
      "text/plain": [
       "[0, 1, 2, 3, 4]"
      ]
     },
     "execution_count": 123,
     "metadata": {},
     "output_type": "execute_result"
    }
   ],
   "source": [
    "list(range(5))"
   ]
  },
  {
   "cell_type": "code",
   "execution_count": 125,
   "metadata": {},
   "outputs": [
    {
     "data": {
      "text/plain": [
       "[4, 3, 2, 1, 0]"
      ]
     },
     "execution_count": 125,
     "metadata": {},
     "output_type": "execute_result"
    }
   ],
   "source": [
    "# срез списка [START:STOP:STEP]\n",
    "# [::-1] - обход списка от начала до конца но в обратном порядке\n",
    "list(range(5))[::-1]"
   ]
  },
  {
   "cell_type": "code",
   "execution_count": 126,
   "metadata": {},
   "outputs": [],
   "source": [
    "foldr = lambda function, collection, initial: ft.reduce(lambda x, y: function(y, x), collection[::-1], initial)"
   ]
  },
  {
   "cell_type": "code",
   "execution_count": 135,
   "metadata": {},
   "outputs": [
    {
     "data": {
      "text/plain": [
       "0.04"
      ]
     },
     "execution_count": 135,
     "metadata": {},
     "output_type": "execute_result"
    }
   ],
   "source": [
    "foldr(lambda acc, elem: acc/elem, [2,5,10], 100)"
   ]
  },
  {
   "cell_type": "code",
   "execution_count": 138,
   "metadata": {},
   "outputs": [
    {
     "data": {
      "text/plain": [
       "0.04"
      ]
     },
     "execution_count": 138,
     "metadata": {},
     "output_type": "execute_result"
    }
   ],
   "source": [
    "# функция foldr правоассоциативна\n",
    "2.0 / (5.0 / (10.0 / 100.0))"
   ]
  },
  {
   "cell_type": "code",
   "execution_count": null,
   "metadata": {},
   "outputs": [],
   "source": []
  },
  {
   "cell_type": "markdown",
   "metadata": {},
   "source": [
    "### Функции высших порядков и comprehensions сопоставимы по возможностям"
   ]
  },
  {
   "cell_type": "code",
   "execution_count": 93,
   "metadata": {},
   "outputs": [
    {
     "data": {
      "text/plain": [
       "[0, 1, 2, 3, 4, 5, 6, 7, 8, 9, 10, 11, 12, 13, 14]"
      ]
     },
     "execution_count": 93,
     "metadata": {},
     "output_type": "execute_result"
    }
   ],
   "source": [
    "t10 = list(range(15))\n",
    "t10"
   ]
  },
  {
   "cell_type": "code",
   "execution_count": 94,
   "metadata": {},
   "outputs": [
    {
     "data": {
      "text/plain": [
       "[0, 2, 4, 6, 8, 10, 12, 14]"
      ]
     },
     "execution_count": 94,
     "metadata": {},
     "output_type": "execute_result"
    }
   ],
   "source": [
    "list(filter(lambda x: x % 2 ==0, t10))"
   ]
  },
  {
   "cell_type": "code",
   "execution_count": 95,
   "metadata": {},
   "outputs": [
    {
     "data": {
      "text/plain": [
       "[0, 2, 4, 6, 8, 10, 12, 14]"
      ]
     },
     "execution_count": 95,
     "metadata": {},
     "output_type": "execute_result"
    }
   ],
   "source": [
    "[x for x in t10 if x % 2 ==0]"
   ]
  },
  {
   "cell_type": "markdown",
   "metadata": {},
   "source": [
    "## Строка является списком"
   ]
  },
  {
   "cell_type": "code",
   "execution_count": 100,
   "metadata": {},
   "outputs": [
    {
     "data": {
      "text/plain": [
       "['s!', 't!', 'r!', 'i!', 'n!', 'g!']"
      ]
     },
     "execution_count": 100,
     "metadata": {},
     "output_type": "execute_result"
    }
   ],
   "source": [
    "t20 = [x + '!' for x in 'string']\n",
    "t20"
   ]
  },
  {
   "cell_type": "code",
   "execution_count": 101,
   "metadata": {},
   "outputs": [
    {
     "data": {
      "text/plain": [
       "'s!t!r!i!n!g!'"
      ]
     },
     "execution_count": 101,
     "metadata": {},
     "output_type": "execute_result"
    }
   ],
   "source": [
    "''.join(t20)"
   ]
  },
  {
   "cell_type": "code",
   "execution_count": 102,
   "metadata": {},
   "outputs": [
    {
     "data": {
      "text/plain": [
       "['пример', 'разбиения', 'строки', 'по', 'пробелам', 'в', 'список']"
      ]
     },
     "execution_count": 102,
     "metadata": {},
     "output_type": "execute_result"
    }
   ],
   "source": [
    "'пример разбиения строки по пробелам в список'.split(' ')"
   ]
  },
  {
   "cell_type": "code",
   "execution_count": null,
   "metadata": {},
   "outputs": [],
   "source": []
  },
  {
   "cell_type": "markdown",
   "metadata": {},
   "source": [
    "# Декораторы"
   ]
  },
  {
   "cell_type": "markdown",
   "metadata": {},
   "source": [
    "Функция в Питоне является \"объектом первого порядка\" - ее можно вернуть из функции или передать в функцию."
   ]
  },
  {
   "cell_type": "code",
   "execution_count": 139,
   "metadata": {},
   "outputs": [],
   "source": [
    "def return_func():\n",
    "\n",
    "    def func_inside():\n",
    "        print(\"I'm inside\")\n",
    "\n",
    "    print(\"I'm outside\")\n",
    "    return func_inside"
   ]
  },
  {
   "cell_type": "code",
   "execution_count": 140,
   "metadata": {},
   "outputs": [
    {
     "name": "stdout",
     "output_type": "stream",
     "text": [
      "I'm outside\n"
     ]
    },
    {
     "data": {
      "text/plain": [
       "<function __main__.return_func.<locals>.func_inside()>"
      ]
     },
     "execution_count": 140,
     "metadata": {},
     "output_type": "execute_result"
    }
   ],
   "source": [
    "return_func()"
   ]
  },
  {
   "cell_type": "code",
   "execution_count": 141,
   "metadata": {},
   "outputs": [
    {
     "name": "stdout",
     "output_type": "stream",
     "text": [
      "I'm outside\n",
      "I'm inside\n"
     ]
    }
   ],
   "source": [
    "return_func()()"
   ]
  },
  {
   "cell_type": "code",
   "execution_count": 142,
   "metadata": {},
   "outputs": [
    {
     "name": "stdout",
     "output_type": "stream",
     "text": [
      "accept_func\n",
      "my_func\n"
     ]
    }
   ],
   "source": [
    "def accept_func(some_func):\n",
    "    print(\"accept_func\")\n",
    "    some_func()\n",
    "\n",
    "\n",
    "def my_func():\n",
    "    print(\"my_func\")\n",
    "\n",
    "\n",
    "accept_func(my_func)"
   ]
  },
  {
   "cell_type": "code",
   "execution_count": 143,
   "metadata": {},
   "outputs": [
    {
     "name": "stdout",
     "output_type": "stream",
     "text": [
      "before\n",
      "my_func\n",
      "after\n"
     ]
    }
   ],
   "source": [
    "def decorator(some_func):\n",
    "    print(\"before\")\n",
    "    some_func()\n",
    "    print(\"after\")\n",
    "\n",
    "\n",
    "def my_func():\n",
    "    print(\"my_func\")\n",
    "\n",
    "\n",
    "decorator(my_func)"
   ]
  },
  {
   "cell_type": "code",
   "execution_count": 147,
   "metadata": {},
   "outputs": [
    {
     "name": "stdout",
     "output_type": "stream",
     "text": [
      "before\n",
      "my_func\n",
      "after\n"
     ]
    }
   ],
   "source": [
    "def my_decorator(func_to_decorate): # 1. Функция, которая\n",
    "\n",
    "    def decorated_func():\n",
    "        print(\"before\")\n",
    "        func_to_decorate() # 3. В которую завернута декорируемая функция\n",
    "        print(\"after\")\n",
    "\n",
    "    return decorated_func # 2. возвращает функцию,\n",
    "\n",
    "\n",
    "def my_func():\n",
    "    print(\"my_func\")\n",
    "\n",
    "\n",
    "decorated = my_decorator(my_func)\n",
    "decorated()"
   ]
  },
  {
   "cell_type": "code",
   "execution_count": 148,
   "metadata": {},
   "outputs": [],
   "source": [
    "@my_decorator\n",
    "def my_func2():\n",
    "    print(\"my_func2\")"
   ]
  },
  {
   "cell_type": "code",
   "execution_count": 149,
   "metadata": {},
   "outputs": [
    {
     "name": "stdout",
     "output_type": "stream",
     "text": [
      "before\n",
      "my_func2\n",
      "after\n"
     ]
    }
   ],
   "source": [
    "my_func2()"
   ]
  },
  {
   "cell_type": "code",
   "execution_count": 154,
   "metadata": {},
   "outputs": [
    {
     "name": "stdout",
     "output_type": "stream",
     "text": [
      "decorator_arg = 5\n",
      "my_func3\n"
     ]
    }
   ],
   "source": [
    "def decorator_creator(decorator_arg):\n",
    "    def my_decorator(func_to_decorate):\n",
    "        def decorated_func():\n",
    "            print(\"decorator_arg = {}\".format(decorator_arg))\n",
    "            func_to_decorate()\n",
    "        return decorated_func\n",
    "    return my_decorator\n",
    "\n",
    "\n",
    "@decorator_creator(5) # Результат вызова - my_decorator\n",
    "def my_func3():\n",
    "    print(\"my_func3\")\n",
    "\n",
    "my_func3()"
   ]
  },
  {
   "cell_type": "code",
   "execution_count": 155,
   "metadata": {},
   "outputs": [
    {
     "ename": "TypeError",
     "evalue": "decorated_func() takes 0 positional arguments but 3 were given",
     "output_type": "error",
     "traceback": [
      "\u001b[1;31m---------------------------------------------------------------------------\u001b[0m",
      "\u001b[1;31mTypeError\u001b[0m                                 Traceback (most recent call last)",
      "\u001b[1;32m<ipython-input-155-9a15af73c6a0>\u001b[0m in \u001b[0;36m<module>\u001b[1;34m\u001b[0m\n\u001b[1;32m----> 1\u001b[1;33m \u001b[0mmy_func3\u001b[0m\u001b[1;33m(\u001b[0m\u001b[1;36m1\u001b[0m\u001b[1;33m,\u001b[0m\u001b[1;36m2\u001b[0m\u001b[1;33m,\u001b[0m\u001b[1;36m3\u001b[0m\u001b[1;33m)\u001b[0m\u001b[1;33m\u001b[0m\u001b[1;33m\u001b[0m\u001b[0m\n\u001b[0m",
      "\u001b[1;31mTypeError\u001b[0m: decorated_func() takes 0 positional arguments but 3 were given"
     ]
    }
   ],
   "source": [
    "my_func3(1,2,3)"
   ]
  },
  {
   "cell_type": "code",
   "execution_count": 151,
   "metadata": {},
   "outputs": [],
   "source": [
    "def benchmark(func):\n",
    "    import time\n",
    "\n",
    "    def wrapper(*args, **kwargs):\n",
    "        t = time.clock()\n",
    "        res = func(*args, **kwargs)\n",
    "        print(func.__name__, time.clock() - t)\n",
    "        return res\n",
    "\n",
    "    return wrapper"
   ]
  },
  {
   "cell_type": "code",
   "execution_count": 152,
   "metadata": {},
   "outputs": [],
   "source": [
    "def logging(func):\n",
    "    def wrapper(*args, **kwargs):\n",
    "        res = func(*args, **kwargs)\n",
    "        print(func.__name__, args, kwargs)\n",
    "        return res\n",
    "\n",
    "    return wrapper"
   ]
  },
  {
   "cell_type": "code",
   "execution_count": 156,
   "metadata": {},
   "outputs": [],
   "source": [
    "@logging\n",
    "def my_func4(p1, p2):\n",
    "    print(p1, p2)"
   ]
  },
  {
   "cell_type": "code",
   "execution_count": 157,
   "metadata": {},
   "outputs": [
    {
     "name": "stdout",
     "output_type": "stream",
     "text": [
      "1 2\n",
      "my_func4 (1, 2) {}\n"
     ]
    }
   ],
   "source": [
    "my_func4(1,2)"
   ]
  },
  {
   "cell_type": "code",
   "execution_count": 169,
   "metadata": {},
   "outputs": [],
   "source": [
    "def logging_with_params(par1, par2):\n",
    "    def logging(func):\n",
    "        def wrapper(*args, **kwargs):\n",
    "            print('Decorator arguments:', par1, par2)\n",
    "            res = func(*args, **kwargs)\n",
    "            print(func.__name__, args, kwargs)\n",
    "            return res\n",
    "\n",
    "        return wrapper\n",
    "    return logging"
   ]
  },
  {
   "cell_type": "code",
   "execution_count": 170,
   "metadata": {},
   "outputs": [],
   "source": [
    "@logging_with_params(1,2)\n",
    "def my_func5(p1, p2):\n",
    "    print(p1, p2)"
   ]
  },
  {
   "cell_type": "code",
   "execution_count": 171,
   "metadata": {},
   "outputs": [
    {
     "name": "stdout",
     "output_type": "stream",
     "text": [
      "Decorator arguments: 1 2\n",
      "1 2\n",
      "my_func5 (1, 2) {}\n"
     ]
    }
   ],
   "source": [
    "my_func5(1,2)"
   ]
  },
  {
   "cell_type": "code",
   "execution_count": 185,
   "metadata": {},
   "outputs": [],
   "source": [
    "def logging_with_params2(*args, **kwargs):\n",
    "    \n",
    "    print('=====================================')\n",
    "    print('Arguments:')\n",
    "    for arg in args:\n",
    "        print(arg)\n",
    "    print('\\nKeywords:')\n",
    "    for key in kwargs:\n",
    "        print('{} = {}'.format(key, kwargs[key]))       \n",
    "    print('=====================================')\n",
    "    \n",
    "    par1 = args[0]\n",
    "    par2 = args[1]\n",
    "    \n",
    "    def logging(func):\n",
    "        def wrapper(*args, **kwargs):\n",
    "            print('Decorator arguments:', par1, par2)\n",
    "            res = func(*args, **kwargs)\n",
    "            print(func.__name__, args, kwargs)\n",
    "            return res\n",
    "\n",
    "        return wrapper\n",
    "    return logging"
   ]
  },
  {
   "cell_type": "code",
   "execution_count": 186,
   "metadata": {},
   "outputs": [
    {
     "name": "stdout",
     "output_type": "stream",
     "text": [
      "=====================================\n",
      "Arguments:\n",
      "1\n",
      "2\n",
      "3\n",
      "True\n",
      "qwerty\n",
      "\n",
      "Keywords:\n",
      "param1 = 123\n",
      "bool_param = True\n",
      "str_param = string\n",
      "=====================================\n"
     ]
    }
   ],
   "source": [
    "@logging_with_params2(1,2,3,True, 'qwerty', param1=123, bool_param=True, str_param='string')\n",
    "def my_func7(p1, p2):\n",
    "    print(p1, p2)"
   ]
  },
  {
   "cell_type": "code",
   "execution_count": 187,
   "metadata": {},
   "outputs": [
    {
     "name": "stdout",
     "output_type": "stream",
     "text": [
      "Decorator arguments: 1 2\n",
      "1 2\n",
      "my_func7 (1, 2) {}\n"
     ]
    }
   ],
   "source": [
    "my_func7(1,2)"
   ]
  },
  {
   "cell_type": "code",
   "execution_count": 197,
   "metadata": {},
   "outputs": [],
   "source": [
    "@benchmark\n",
    "def time1(n):\n",
    "    res = []\n",
    "    for i in range(n):\n",
    "        res.append(i)\n",
    "    return res"
   ]
  },
  {
   "cell_type": "code",
   "execution_count": 200,
   "metadata": {},
   "outputs": [
    {
     "name": "stderr",
     "output_type": "stream",
     "text": [
      "C:\\ProgramData\\Anaconda3\\lib\\site-packages\\ipykernel_launcher.py:5: DeprecationWarning: time.clock has been deprecated in Python 3.3 and will be removed from Python 3.8: use time.perf_counter or time.process_time instead\n",
      "  \"\"\"\n"
     ]
    },
    {
     "name": "stdout",
     "output_type": "stream",
     "text": [
      "time1 0.9349273820007511\n"
     ]
    },
    {
     "name": "stderr",
     "output_type": "stream",
     "text": [
      "C:\\ProgramData\\Anaconda3\\lib\\site-packages\\ipykernel_launcher.py:7: DeprecationWarning: time.clock has been deprecated in Python 3.3 and will be removed from Python 3.8: use time.perf_counter or time.process_time instead\n",
      "  import sys\n"
     ]
    }
   ],
   "source": [
    "tt1 = time1(10000000)"
   ]
  },
  {
   "cell_type": "code",
   "execution_count": 201,
   "metadata": {},
   "outputs": [],
   "source": [
    "@benchmark\n",
    "def time2(n):\n",
    "    return [i for i in range(n)]"
   ]
  },
  {
   "cell_type": "code",
   "execution_count": 202,
   "metadata": {},
   "outputs": [
    {
     "name": "stderr",
     "output_type": "stream",
     "text": [
      "C:\\ProgramData\\Anaconda3\\lib\\site-packages\\ipykernel_launcher.py:5: DeprecationWarning: time.clock has been deprecated in Python 3.3 and will be removed from Python 3.8: use time.perf_counter or time.process_time instead\n",
      "  \"\"\"\n"
     ]
    },
    {
     "name": "stdout",
     "output_type": "stream",
     "text": [
      "time2 0.6100348090003536\n"
     ]
    },
    {
     "name": "stderr",
     "output_type": "stream",
     "text": [
      "C:\\ProgramData\\Anaconda3\\lib\\site-packages\\ipykernel_launcher.py:7: DeprecationWarning: time.clock has been deprecated in Python 3.3 and will be removed from Python 3.8: use time.perf_counter or time.process_time instead\n",
      "  import sys\n"
     ]
    }
   ],
   "source": [
    "tt2 = time2(10000000)"
   ]
  },
  {
   "cell_type": "code",
   "execution_count": null,
   "metadata": {},
   "outputs": [],
   "source": []
  },
  {
   "cell_type": "code",
   "execution_count": null,
   "metadata": {},
   "outputs": [],
   "source": []
  },
  {
   "cell_type": "code",
   "execution_count": null,
   "metadata": {},
   "outputs": [],
   "source": []
  }
 ],
 "metadata": {
  "kernelspec": {
   "display_name": "Python 3",
   "language": "python",
   "name": "python3"
  },
  "language_info": {
   "codemirror_mode": {
    "name": "ipython",
    "version": 3
   },
   "file_extension": ".py",
   "mimetype": "text/x-python",
   "name": "python",
   "nbconvert_exporter": "python",
   "pygments_lexer": "ipython3",
   "version": "3.7.3"
  }
 },
 "nbformat": 4,
 "nbformat_minor": 2
}
